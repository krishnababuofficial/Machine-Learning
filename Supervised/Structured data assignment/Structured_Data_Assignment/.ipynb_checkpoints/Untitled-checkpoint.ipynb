{
 "cells": [
  {
   "cell_type": "code",
   "execution_count": 1,
   "id": "6189a341",
   "metadata": {},
   "outputs": [
    {
     "name": "stdout",
     "output_type": "stream",
     "text": [
      "Requirement already satisfied: pyarrow in c:\\users\\krishna\\anaconda3\\lib\\site-packages (12.0.0)\n",
      "Requirement already satisfied: numpy>=1.16.6 in c:\\users\\krishna\\anaconda3\\lib\\site-packages (from pyarrow) (1.23.5)\n",
      "Note: you may need to restart the kernel to use updated packages.\n"
     ]
    }
   ],
   "source": [
    "pip install pyarrow"
   ]
  },
  {
   "cell_type": "code",
   "execution_count": 2,
   "id": "897d754e",
   "metadata": {},
   "outputs": [],
   "source": [
    "import pandas as pd\n",
    "import numpy as np\n",
    "import matplotlib.pyplot as plt\n",
    "import seaborn as sns\n",
    "import pyarrow\n",
    "\n",
    "import warnings\n",
    "warnings.filterwarnings(\"ignore\")"
   ]
  },
  {
   "cell_type": "code",
   "execution_count": 3,
   "id": "f029c6cf",
   "metadata": {},
   "outputs": [
    {
     "name": "stdout",
     "output_type": "stream",
     "text": [
      "                            Patient-Uid       Date           Incident\n",
      "0  a0db1e73-1c7c-11ec-ae39-16262ee38c7f 2019-03-09  PRIMARY_DIAGNOSIS\n",
      "1  a0dc93f2-1c7c-11ec-9cd2-16262ee38c7f 2015-05-16  PRIMARY_DIAGNOSIS\n",
      "3  a0dc94c6-1c7c-11ec-a3a0-16262ee38c7f 2018-01-30     SYMPTOM_TYPE_0\n",
      "4  a0dc950b-1c7c-11ec-b6ec-16262ee38c7f 2015-04-22        DRUG_TYPE_0\n",
      "8  a0dc9543-1c7c-11ec-bb63-16262ee38c7f 2016-06-18        DRUG_TYPE_1\n",
      "                            Patient-Uid       Date        Incident\n",
      "0  a0f9e8a9-1c7c-11ec-8d25-16262ee38c7f 2016-12-08  SYMPTOM_TYPE_0\n",
      "1  a0f9e8a9-1c7c-11ec-8d25-16262ee38c7f 2018-10-17     DRUG_TYPE_0\n",
      "2  a0f9e8a9-1c7c-11ec-8d25-16262ee38c7f 2017-12-01     DRUG_TYPE_2\n",
      "3  a0f9e8a9-1c7c-11ec-8d25-16262ee38c7f 2018-12-05     DRUG_TYPE_1\n",
      "4  a0f9e8a9-1c7c-11ec-8d25-16262ee38c7f 2017-11-04  SYMPTOM_TYPE_0\n"
     ]
    }
   ],
   "source": [
    "data_train=pd.read_parquet(\"train.parquet\",engine='pyarrow')\n",
    "print(data_train.head())\n",
    "data_test=pd.read_parquet(\"test.parquet\",engine='pyarrow')\n",
    "print(data_test.head())"
   ]
  },
  {
   "cell_type": "code",
   "execution_count": 4,
   "id": "d58f06ae",
   "metadata": {},
   "outputs": [
    {
     "name": "stdout",
     "output_type": "stream",
     "text": [
      "<class 'pandas.core.frame.DataFrame'>\n",
      "Int64Index: 3220868 entries, 0 to 29080911\n",
      "Data columns (total 3 columns):\n",
      " #   Column       Dtype         \n",
      "---  ------       -----         \n",
      " 0   Patient-Uid  object        \n",
      " 1   Date         datetime64[ns]\n",
      " 2   Incident     object        \n",
      "dtypes: datetime64[ns](1), object(2)\n",
      "memory usage: 98.3+ MB\n"
     ]
    }
   ],
   "source": [
    "data_train.info()"
   ]
  },
  {
   "cell_type": "code",
   "execution_count": 5,
   "id": "7e9eddfb",
   "metadata": {},
   "outputs": [
    {
     "name": "stdout",
     "output_type": "stream",
     "text": [
      "<class 'pandas.core.frame.DataFrame'>\n",
      "Int64Index: 1065524 entries, 0 to 1372859\n",
      "Data columns (total 3 columns):\n",
      " #   Column       Non-Null Count    Dtype         \n",
      "---  ------       --------------    -----         \n",
      " 0   Patient-Uid  1065524 non-null  object        \n",
      " 1   Date         1065524 non-null  datetime64[ns]\n",
      " 2   Incident     1065524 non-null  object        \n",
      "dtypes: datetime64[ns](1), object(2)\n",
      "memory usage: 32.5+ MB\n"
     ]
    }
   ],
   "source": [
    "data_test.info()"
   ]
  },
  {
   "cell_type": "code",
   "execution_count": 6,
   "id": "6882f32b",
   "metadata": {},
   "outputs": [
    {
     "data": {
      "text/plain": [
       "(3220868,)"
      ]
     },
     "execution_count": 6,
     "metadata": {},
     "output_type": "execute_result"
    }
   ],
   "source": [
    "data_train['Patient-Uid'].shape"
   ]
  },
  {
   "cell_type": "code",
   "execution_count": 7,
   "id": "5b33634f",
   "metadata": {},
   "outputs": [
    {
     "data": {
      "text/plain": [
       "(3220868,)"
      ]
     },
     "execution_count": 7,
     "metadata": {},
     "output_type": "execute_result"
    }
   ],
   "source": [
    "data_train['Date'].shape"
   ]
  },
  {
   "cell_type": "code",
   "execution_count": 8,
   "id": "5c880bbb",
   "metadata": {},
   "outputs": [
    {
     "data": {
      "text/plain": [
       "(3220868,)"
      ]
     },
     "execution_count": 8,
     "metadata": {},
     "output_type": "execute_result"
    }
   ],
   "source": [
    "data_train['Incident'].shape"
   ]
  },
  {
   "cell_type": "code",
   "execution_count": 11,
   "id": "51b145e3",
   "metadata": {},
   "outputs": [
    {
     "data": {
      "text/plain": [
       "Patient-Uid    0\n",
       "Date           0\n",
       "Incident       0\n",
       "dtype: int64"
      ]
     },
     "execution_count": 11,
     "metadata": {},
     "output_type": "execute_result"
    }
   ],
   "source": [
    "data_train.isna().sum()"
   ]
  },
  {
   "cell_type": "code",
   "execution_count": 12,
   "id": "71c8718a",
   "metadata": {},
   "outputs": [
    {
     "data": {
      "text/plain": [
       "DRUG_TYPE_6          561934\n",
       "DRUG_TYPE_1          484666\n",
       "PRIMARY_DIAGNOSIS    431902\n",
       "DRUG_TYPE_0          300005\n",
       "DRUG_TYPE_7          258782\n",
       "DRUG_TYPE_2          256841\n",
       "DRUG_TYPE_8          160066\n",
       "DRUG_TYPE_3          127676\n",
       "TEST_TYPE_1           96810\n",
       "TARGET DRUG           67218\n",
       "DRUG_TYPE_9           66894\n",
       "DRUG_TYPE_5           57510\n",
       "DRUG_TYPE_11          48118\n",
       "SYMPTOM_TYPE_0        46078\n",
       "SYMPTOM_TYPE_6        32066\n",
       "TEST_TYPE_0           27570\n",
       "SYMPTOM_TYPE_7        22019\n",
       "DRUG_TYPE_10          20925\n",
       "DRUG_TYPE_14          17306\n",
       "DRUG_TYPE_13          12372\n",
       "DRUG_TYPE_12           9551\n",
       "SYMPTOM_TYPE_14        8927\n",
       "SYMPTOM_TYPE_1         8608\n",
       "SYMPTOM_TYPE_2         8168\n",
       "TEST_TYPE_3            8115\n",
       "SYMPTOM_TYPE_5         7583\n",
       "SYMPTOM_TYPE_8         7430\n",
       "TEST_TYPE_2            7021\n",
       "SYMPTOM_TYPE_15        6295\n",
       "SYMPTOM_TYPE_10        6005\n",
       "SYMPTOM_TYPE_29        5950\n",
       "SYMPTOM_TYPE_16        4940\n",
       "DRUG_TYPE_15           4906\n",
       "SYMPTOM_TYPE_9         4885\n",
       "DRUG_TYPE_4            4566\n",
       "SYMPTOM_TYPE_4         4115\n",
       "SYMPTOM_TYPE_3         3931\n",
       "SYMPTOM_TYPE_12        2685\n",
       "SYMPTOM_TYPE_11        2483\n",
       "SYMPTOM_TYPE_17        2090\n",
       "SYMPTOM_TYPE_13        1541\n",
       "DRUG_TYPE_16           1145\n",
       "TEST_TYPE_4            1108\n",
       "SYMPTOM_TYPE_18         530\n",
       "SYMPTOM_TYPE_21         363\n",
       "SYMPTOM_TYPE_22         285\n",
       "SYMPTOM_TYPE_19         219\n",
       "DRUG_TYPE_17            214\n",
       "TEST_TYPE_5             137\n",
       "SYMPTOM_TYPE_24          97\n",
       "SYMPTOM_TYPE_26          63\n",
       "SYMPTOM_TYPE_23          54\n",
       "SYMPTOM_TYPE_20          53\n",
       "SYMPTOM_TYPE_27          21\n",
       "SYMPTOM_TYPE_25          18\n",
       "SYMPTOM_TYPE_28           7\n",
       "DRUG_TYPE_18              1\n",
       "Name: Incident, dtype: int64"
      ]
     },
     "execution_count": 12,
     "metadata": {},
     "output_type": "execute_result"
    }
   ],
   "source": [
    "data_train['Incident'].value_counts()"
   ]
  },
  {
   "cell_type": "code",
   "execution_count": 14,
   "id": "5bc24908",
   "metadata": {},
   "outputs": [
    {
     "data": {
      "text/plain": [
       "2019-05-21    3678\n",
       "2019-05-22    3387\n",
       "2019-03-05    3198\n",
       "2019-05-14    3169\n",
       "2019-03-12    3034\n",
       "              ... \n",
       "2018-02-28     312\n",
       "2017-02-28     286\n",
       "2020-02-29     285\n",
       "2016-01-29     273\n",
       "2016-02-29     259\n",
       "Name: Date, Length: 1977, dtype: int64"
      ]
     },
     "execution_count": 14,
     "metadata": {},
     "output_type": "execute_result"
    }
   ],
   "source": [
    "data_train['Date'].value_counts()"
   ]
  },
  {
   "cell_type": "code",
   "execution_count": 15,
   "id": "29c26b49",
   "metadata": {},
   "outputs": [
    {
     "data": {
      "text/plain": [
       "a0ddfd2c-1c7c-11ec-876d-16262ee38c7f    1645\n",
       "a0ea618f-1c7c-11ec-93fb-16262ee38c7f    1320\n",
       "a0e553c4-1c7c-11ec-83f1-16262ee38c7f    1163\n",
       "a0df4809-1c7c-11ec-be0b-16262ee38c7f    1099\n",
       "a0ec2afe-1c7c-11ec-befd-16262ee38c7f    1075\n",
       "                                        ... \n",
       "a0ecc127-1c7c-11ec-92b5-16262ee38c7f      31\n",
       "a0eb794b-1c7c-11ec-92d7-16262ee38c7f      30\n",
       "a0f02cd8-1c7c-11ec-96a0-16262ee38c7f      28\n",
       "a0efac48-1c7c-11ec-9daa-16262ee38c7f      25\n",
       "a0f0d0b5-1c7c-11ec-9901-16262ee38c7f      24\n",
       "Name: Patient-Uid, Length: 27033, dtype: int64"
      ]
     },
     "execution_count": 15,
     "metadata": {},
     "output_type": "execute_result"
    }
   ],
   "source": [
    "data_train['Patient-Uid'].value_counts()"
   ]
  },
  {
   "cell_type": "code",
   "execution_count": 24,
   "id": "70684d85",
   "metadata": {},
   "outputs": [
    {
     "data": {
      "text/html": [
       "<div>\n",
       "<style scoped>\n",
       "    .dataframe tbody tr th:only-of-type {\n",
       "        vertical-align: middle;\n",
       "    }\n",
       "\n",
       "    .dataframe tbody tr th {\n",
       "        vertical-align: top;\n",
       "    }\n",
       "\n",
       "    .dataframe thead th {\n",
       "        text-align: right;\n",
       "    }\n",
       "</style>\n",
       "<table border=\"1\" class=\"dataframe\">\n",
       "  <thead>\n",
       "    <tr style=\"text-align: right;\">\n",
       "      <th></th>\n",
       "      <th>Patient-Uid</th>\n",
       "      <th>Date</th>\n",
       "      <th>Incident</th>\n",
       "    </tr>\n",
       "  </thead>\n",
       "  <tbody>\n",
       "    <tr>\n",
       "      <th>3294791</th>\n",
       "      <td>a0eb742b-1c7c-11ec-8f61-16262ee38c7f</td>\n",
       "      <td>2020-04-09</td>\n",
       "      <td>TARGET DRUG</td>\n",
       "    </tr>\n",
       "    <tr>\n",
       "      <th>3296990</th>\n",
       "      <td>a0edaf09-1c7c-11ec-a360-16262ee38c7f</td>\n",
       "      <td>2018-06-12</td>\n",
       "      <td>TARGET DRUG</td>\n",
       "    </tr>\n",
       "    <tr>\n",
       "      <th>3305387</th>\n",
       "      <td>a0e9fa0e-1c7c-11ec-8dc7-16262ee38c7f</td>\n",
       "      <td>2019-06-11</td>\n",
       "      <td>TARGET DRUG</td>\n",
       "    </tr>\n",
       "    <tr>\n",
       "      <th>3309423</th>\n",
       "      <td>a0ecc615-1c7c-11ec-aa31-16262ee38c7f</td>\n",
       "      <td>2019-11-15</td>\n",
       "      <td>TARGET DRUG</td>\n",
       "    </tr>\n",
       "    <tr>\n",
       "      <th>3309494</th>\n",
       "      <td>a0ea612f-1c7c-11ec-8cf0-16262ee38c7f</td>\n",
       "      <td>2020-03-18</td>\n",
       "      <td>TARGET DRUG</td>\n",
       "    </tr>\n",
       "    <tr>\n",
       "      <th>...</th>\n",
       "      <td>...</td>\n",
       "      <td>...</td>\n",
       "      <td>...</td>\n",
       "    </tr>\n",
       "    <tr>\n",
       "      <th>29074998</th>\n",
       "      <td>a0ef2b6d-1c7c-11ec-9172-16262ee38c7f</td>\n",
       "      <td>2018-10-12</td>\n",
       "      <td>TARGET DRUG</td>\n",
       "    </tr>\n",
       "    <tr>\n",
       "      <th>29075105</th>\n",
       "      <td>a0ebe423-1c7c-11ec-a5e0-16262ee38c7f</td>\n",
       "      <td>2019-07-02</td>\n",
       "      <td>TARGET DRUG</td>\n",
       "    </tr>\n",
       "    <tr>\n",
       "      <th>29075494</th>\n",
       "      <td>a0ebc713-1c7c-11ec-bd53-16262ee38c7f</td>\n",
       "      <td>2019-05-21</td>\n",
       "      <td>TARGET DRUG</td>\n",
       "    </tr>\n",
       "    <tr>\n",
       "      <th>29080031</th>\n",
       "      <td>a0ee1bdb-1c7c-11ec-90ba-16262ee38c7f</td>\n",
       "      <td>2018-06-07</td>\n",
       "      <td>TARGET DRUG</td>\n",
       "    </tr>\n",
       "    <tr>\n",
       "      <th>29080178</th>\n",
       "      <td>a0eef180-1c7c-11ec-8de8-16262ee38c7f</td>\n",
       "      <td>2018-07-17</td>\n",
       "      <td>TARGET DRUG</td>\n",
       "    </tr>\n",
       "  </tbody>\n",
       "</table>\n",
       "<p>67218 rows × 3 columns</p>\n",
       "</div>"
      ],
      "text/plain": [
       "                                   Patient-Uid       Date     Incident\n",
       "3294791   a0eb742b-1c7c-11ec-8f61-16262ee38c7f 2020-04-09  TARGET DRUG\n",
       "3296990   a0edaf09-1c7c-11ec-a360-16262ee38c7f 2018-06-12  TARGET DRUG\n",
       "3305387   a0e9fa0e-1c7c-11ec-8dc7-16262ee38c7f 2019-06-11  TARGET DRUG\n",
       "3309423   a0ecc615-1c7c-11ec-aa31-16262ee38c7f 2019-11-15  TARGET DRUG\n",
       "3309494   a0ea612f-1c7c-11ec-8cf0-16262ee38c7f 2020-03-18  TARGET DRUG\n",
       "...                                        ...        ...          ...\n",
       "29074998  a0ef2b6d-1c7c-11ec-9172-16262ee38c7f 2018-10-12  TARGET DRUG\n",
       "29075105  a0ebe423-1c7c-11ec-a5e0-16262ee38c7f 2019-07-02  TARGET DRUG\n",
       "29075494  a0ebc713-1c7c-11ec-bd53-16262ee38c7f 2019-05-21  TARGET DRUG\n",
       "29080031  a0ee1bdb-1c7c-11ec-90ba-16262ee38c7f 2018-06-07  TARGET DRUG\n",
       "29080178  a0eef180-1c7c-11ec-8de8-16262ee38c7f 2018-07-17  TARGET DRUG\n",
       "\n",
       "[67218 rows x 3 columns]"
      ]
     },
     "execution_count": 24,
     "metadata": {},
     "output_type": "execute_result"
    }
   ],
   "source": [
    "data_train[(data_train['Incident']=='TARGET DRUG')]"
   ]
  }
 ],
 "metadata": {
  "kernelspec": {
   "display_name": "Python 3 (ipykernel)",
   "language": "python",
   "name": "python3"
  },
  "language_info": {
   "codemirror_mode": {
    "name": "ipython",
    "version": 3
   },
   "file_extension": ".py",
   "mimetype": "text/x-python",
   "name": "python",
   "nbconvert_exporter": "python",
   "pygments_lexer": "ipython3",
   "version": "3.9.13"
  }
 },
 "nbformat": 4,
 "nbformat_minor": 5
}
