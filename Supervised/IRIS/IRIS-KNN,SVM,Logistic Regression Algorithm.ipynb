{
 "cells": [
  {
   "cell_type": "code",
   "execution_count": 1,
   "id": "7c8db702",
   "metadata": {},
   "outputs": [],
   "source": [
    "import pandas as pd\n",
    "import numpy as np\n",
    "import matplotlib.pyplot as plt\n",
    "import seaborn as sns\n"
   ]
  },
  {
   "cell_type": "code",
   "execution_count": 2,
   "id": "e901c3bf",
   "metadata": {},
   "outputs": [
    {
     "data": {
      "text/html": [
       "<div>\n",
       "<style scoped>\n",
       "    .dataframe tbody tr th:only-of-type {\n",
       "        vertical-align: middle;\n",
       "    }\n",
       "\n",
       "    .dataframe tbody tr th {\n",
       "        vertical-align: top;\n",
       "    }\n",
       "\n",
       "    .dataframe thead th {\n",
       "        text-align: right;\n",
       "    }\n",
       "</style>\n",
       "<table border=\"1\" class=\"dataframe\">\n",
       "  <thead>\n",
       "    <tr style=\"text-align: right;\">\n",
       "      <th></th>\n",
       "      <th>sepal_length</th>\n",
       "      <th>sepal_width</th>\n",
       "      <th>petal_length</th>\n",
       "      <th>petal_width</th>\n",
       "      <th>class</th>\n",
       "    </tr>\n",
       "  </thead>\n",
       "  <tbody>\n",
       "    <tr>\n",
       "      <th>0</th>\n",
       "      <td>5.1</td>\n",
       "      <td>3.5</td>\n",
       "      <td>1.4</td>\n",
       "      <td>0.2</td>\n",
       "      <td>Iris-setosa</td>\n",
       "    </tr>\n",
       "    <tr>\n",
       "      <th>1</th>\n",
       "      <td>4.9</td>\n",
       "      <td>3.0</td>\n",
       "      <td>1.4</td>\n",
       "      <td>0.2</td>\n",
       "      <td>Iris-setosa</td>\n",
       "    </tr>\n",
       "    <tr>\n",
       "      <th>2</th>\n",
       "      <td>4.7</td>\n",
       "      <td>3.2</td>\n",
       "      <td>1.3</td>\n",
       "      <td>0.2</td>\n",
       "      <td>Iris-setosa</td>\n",
       "    </tr>\n",
       "    <tr>\n",
       "      <th>3</th>\n",
       "      <td>4.6</td>\n",
       "      <td>3.1</td>\n",
       "      <td>1.5</td>\n",
       "      <td>0.2</td>\n",
       "      <td>Iris-setosa</td>\n",
       "    </tr>\n",
       "    <tr>\n",
       "      <th>4</th>\n",
       "      <td>5.0</td>\n",
       "      <td>3.6</td>\n",
       "      <td>1.4</td>\n",
       "      <td>0.2</td>\n",
       "      <td>Iris-setosa</td>\n",
       "    </tr>\n",
       "    <tr>\n",
       "      <th>...</th>\n",
       "      <td>...</td>\n",
       "      <td>...</td>\n",
       "      <td>...</td>\n",
       "      <td>...</td>\n",
       "      <td>...</td>\n",
       "    </tr>\n",
       "    <tr>\n",
       "      <th>145</th>\n",
       "      <td>6.7</td>\n",
       "      <td>3.0</td>\n",
       "      <td>5.2</td>\n",
       "      <td>2.3</td>\n",
       "      <td>Iris-virginica</td>\n",
       "    </tr>\n",
       "    <tr>\n",
       "      <th>146</th>\n",
       "      <td>6.3</td>\n",
       "      <td>2.5</td>\n",
       "      <td>5.0</td>\n",
       "      <td>1.9</td>\n",
       "      <td>Iris-virginica</td>\n",
       "    </tr>\n",
       "    <tr>\n",
       "      <th>147</th>\n",
       "      <td>6.5</td>\n",
       "      <td>3.0</td>\n",
       "      <td>5.2</td>\n",
       "      <td>2.0</td>\n",
       "      <td>Iris-virginica</td>\n",
       "    </tr>\n",
       "    <tr>\n",
       "      <th>148</th>\n",
       "      <td>6.2</td>\n",
       "      <td>3.4</td>\n",
       "      <td>5.4</td>\n",
       "      <td>2.3</td>\n",
       "      <td>Iris-virginica</td>\n",
       "    </tr>\n",
       "    <tr>\n",
       "      <th>149</th>\n",
       "      <td>5.9</td>\n",
       "      <td>3.0</td>\n",
       "      <td>5.1</td>\n",
       "      <td>1.8</td>\n",
       "      <td>Iris-virginica</td>\n",
       "    </tr>\n",
       "  </tbody>\n",
       "</table>\n",
       "<p>150 rows × 5 columns</p>\n",
       "</div>"
      ],
      "text/plain": [
       "     sepal_length  sepal_width  petal_length  petal_width           class\n",
       "0             5.1          3.5           1.4          0.2     Iris-setosa\n",
       "1             4.9          3.0           1.4          0.2     Iris-setosa\n",
       "2             4.7          3.2           1.3          0.2     Iris-setosa\n",
       "3             4.6          3.1           1.5          0.2     Iris-setosa\n",
       "4             5.0          3.6           1.4          0.2     Iris-setosa\n",
       "..            ...          ...           ...          ...             ...\n",
       "145           6.7          3.0           5.2          2.3  Iris-virginica\n",
       "146           6.3          2.5           5.0          1.9  Iris-virginica\n",
       "147           6.5          3.0           5.2          2.0  Iris-virginica\n",
       "148           6.2          3.4           5.4          2.3  Iris-virginica\n",
       "149           5.9          3.0           5.1          1.8  Iris-virginica\n",
       "\n",
       "[150 rows x 5 columns]"
      ]
     },
     "execution_count": 2,
     "metadata": {},
     "output_type": "execute_result"
    }
   ],
   "source": [
    "iris=pd.read_csv(\"https://archive.ics.uci.edu/ml/machine-learning-databases/iris/iris.data\", header=None, names=[\"sepal_length\",\"sepal_width\",\"petal_length\",\"petal_width\",\"class\"])\n",
    "iris"
   ]
  },
  {
   "cell_type": "code",
   "execution_count": 3,
   "id": "79069f1e",
   "metadata": {},
   "outputs": [],
   "source": [
    "iris.to_csv(\"Iris-For-KNN\")"
   ]
  },
  {
   "cell_type": "code",
   "execution_count": 4,
   "id": "1c3b8411",
   "metadata": {},
   "outputs": [
    {
     "name": "stdout",
     "output_type": "stream",
     "text": [
      "<class 'pandas.core.frame.DataFrame'>\n",
      "RangeIndex: 150 entries, 0 to 149\n",
      "Data columns (total 5 columns):\n",
      " #   Column        Non-Null Count  Dtype  \n",
      "---  ------        --------------  -----  \n",
      " 0   sepal_length  150 non-null    float64\n",
      " 1   sepal_width   150 non-null    float64\n",
      " 2   petal_length  150 non-null    float64\n",
      " 3   petal_width   150 non-null    float64\n",
      " 4   class         150 non-null    object \n",
      "dtypes: float64(4), object(1)\n",
      "memory usage: 6.0+ KB\n"
     ]
    }
   ],
   "source": [
    "iris.info()"
   ]
  },
  {
   "cell_type": "code",
   "execution_count": 5,
   "id": "02af2698",
   "metadata": {},
   "outputs": [
    {
     "data": {
      "text/plain": [
       "sepal_length    0\n",
       "sepal_width     0\n",
       "petal_length    0\n",
       "petal_width     0\n",
       "class           0\n",
       "dtype: int64"
      ]
     },
     "execution_count": 5,
     "metadata": {},
     "output_type": "execute_result"
    }
   ],
   "source": [
    "iris.isnull().sum()"
   ]
  },
  {
   "cell_type": "code",
   "execution_count": 6,
   "id": "d20965d3",
   "metadata": {},
   "outputs": [
    {
     "data": {
      "text/plain": [
       "35"
      ]
     },
     "execution_count": 6,
     "metadata": {},
     "output_type": "execute_result"
    }
   ],
   "source": [
    "iris[\"sepal_length\"].nunique()"
   ]
  },
  {
   "cell_type": "code",
   "execution_count": null,
   "id": "86728539",
   "metadata": {},
   "outputs": [],
   "source": []
  },
  {
   "cell_type": "code",
   "execution_count": 7,
   "id": "ec0e6496",
   "metadata": {},
   "outputs": [
    {
     "name": "stdout",
     "output_type": "stream",
     "text": [
      "sepal_length : \n",
      " [5.1 4.9 4.7 4.6 5.  5.4 4.4 4.8 4.3 5.8 5.7 5.2 5.5 4.5 5.3 7.  6.4 6.9\n",
      " 6.5 6.3 6.6 5.9 6.  6.1 5.6 6.7 6.2 6.8 7.1 7.6 7.3 7.2 7.7 7.4 7.9] \n",
      "\n",
      "sepal_width : \n",
      " [3.5 3.  3.2 3.1 3.6 3.9 3.4 2.9 3.7 4.  4.4 3.8 3.3 4.1 4.2 2.3 2.8 2.4\n",
      " 2.7 2.  2.2 2.5 2.6] \n",
      "\n",
      "petal_length : \n",
      " [1.4 1.3 1.5 1.7 1.6 1.1 1.2 1.  1.9 4.7 4.5 4.9 4.  4.6 3.3 3.9 3.5 4.2\n",
      " 3.6 4.4 4.1 4.8 4.3 5.  3.8 3.7 5.1 3.  6.  5.9 5.6 5.8 6.6 6.3 6.1 5.3\n",
      " 5.5 6.7 6.9 5.7 6.4 5.4 5.2] \n",
      "\n",
      "petal_width : \n",
      " [0.2 0.4 0.3 0.1 0.5 0.6 1.4 1.5 1.3 1.6 1.  1.1 1.8 1.2 1.7 2.5 1.9 2.1\n",
      " 2.2 2.  2.4 2.3] \n",
      "\n",
      "class : \n",
      " ['Iris-setosa' 'Iris-versicolor' 'Iris-virginica'] \n",
      "\n"
     ]
    }
   ],
   "source": [
    "#To check if there are any missing values\n",
    "for col in iris:\n",
    "    print(col,\": \\n\",iris[col].unique(),\"\\n\")"
   ]
  },
  {
   "cell_type": "code",
   "execution_count": 7,
   "id": "382c2c4f",
   "metadata": {},
   "outputs": [
    {
     "data": {
      "image/png": "[encoded data removed]",
      "text/plain": [
       "<Figure size 1080x432 with 4 Axes>"
      ]
     },
     "metadata": {
      "needs_background": "light"
     },
     "output_type": "display_data"
    }
   ],
   "source": [
    "fig, axes = plt.subplots(1, 4, figsize=(15, 6))\n",
    "sns.boxplot(ax=axes[0],data=iris,x=\"class\",y='sepal_length')\n",
    "sns.boxplot(ax=axes[1],data=iris,x=\"class\",y='sepal_width')\n",
    "sns.boxplot(ax=axes[2],data=iris,x=\"class\",y='petal_length')\n",
    "sns.boxplot(ax=axes[3],data=iris,x=\"class\",y='petal_width')\n",
    "plt.show()"
   ]
  },
  {
   "cell_type": "code",
   "execution_count": 8,
   "id": "dc7c1e5e",
   "metadata": {},
   "outputs": [],
   "source": [
    "outlier_sepal_length= iris[iris[\"class\"]==\"Iris-virginica\"][\"sepal_length\"]<5  # outlier index=106\n",
    "outlier_sepal_width_low= iris[iris[\"class\"]==\"Iris-virginica\"][\"sepal_width\"]<2.5   # outlier index=119\n",
    "outlier_sepal_width_high= iris[iris[\"class\"]==\"Iris-virginica\"][\"sepal_width\"]>3.7  # outlier index=117,131\n",
    "\n",
    "outlier_petal_length_low= iris[iris[\"class\"]==\"Iris-setosa\"][\"petal_length\"]<1.2  # outlier index=13,22\n",
    "outlier_petal_length_high= iris[iris[\"class\"]==\"Iris-setosa\"][\"petal_length\"]>1.8  # outlier index=24,44\n",
    "\n",
    "outlier_petal_length_high_versicolor= iris[iris[\"class\"]==\"Iris-versicolor\"][\"petal_length\"]<3.2  # outlier index=98\n",
    "\n",
    "outlier_petal_width = iris[iris[\"class\"]==\"Iris-setosa\"][\"petal_width\"]>0.4  # outlier index=23,43\n"
   ]
  },
  {
   "cell_type": "code",
   "execution_count": 9,
   "id": "e1bfcbda",
   "metadata": {},
   "outputs": [
    {
     "data": {
      "text/plain": [
       "100    False\n",
       "101    False\n",
       "102    False\n",
       "103    False\n",
       "104    False\n",
       "105    False\n",
       "106     True\n",
       "107    False\n",
       "108    False\n",
       "109    False\n",
       "110    False\n",
       "111    False\n",
       "112    False\n",
       "113    False\n",
       "114    False\n",
       "115    False\n",
       "116    False\n",
       "117    False\n",
       "118    False\n",
       "119    False\n",
       "120    False\n",
       "121    False\n",
       "122    False\n",
       "123    False\n",
       "124    False\n",
       "125    False\n",
       "126    False\n",
       "127    False\n",
       "128    False\n",
       "129    False\n",
       "130    False\n",
       "131    False\n",
       "132    False\n",
       "133    False\n",
       "134    False\n",
       "135    False\n",
       "136    False\n",
       "137    False\n",
       "138    False\n",
       "139    False\n",
       "140    False\n",
       "141    False\n",
       "142    False\n",
       "143    False\n",
       "144    False\n",
       "145    False\n",
       "146    False\n",
       "147    False\n",
       "148    False\n",
       "149    False\n",
       "Name: sepal_length, dtype: bool"
      ]
     },
     "execution_count": 9,
     "metadata": {},
     "output_type": "execute_result"
    }
   ],
   "source": [
    "outlier_sepal_length"
   ]
  },
  {
   "cell_type": "code",
   "execution_count": 10,
   "id": "cf40c189",
   "metadata": {},
   "outputs": [],
   "source": [
    "iris.drop(index=[106,119,117,131,13,22,24,44,98,23,43],inplace=True,axis=0)"
   ]
  },
  {
   "cell_type": "code",
   "execution_count": 11,
   "id": "481511cc",
   "metadata": {},
   "outputs": [
    {
     "data": {
      "image/png": "[encoded data removed]",
      "text/plain": [
       "<Figure size 1080x432 with 4 Axes>"
      ]
     },
     "metadata": {
      "needs_background": "light"
     },
     "output_type": "display_data"
    }
   ],
   "source": [
    "fig, axes = plt.subplots(1, 4, figsize=(15, 6))\n",
    "sns.boxplot(ax=axes[0],data=iris,x=\"class\",y='sepal_length')\n",
    "sns.boxplot(ax=axes[1],data=iris,x=\"class\",y='sepal_width')\n",
    "sns.boxplot(ax=axes[2],data=iris,x=\"class\",y='petal_length')\n",
    "sns.boxplot(ax=axes[3],data=iris,x=\"class\",y='petal_width')\n",
    "plt.show()"
   ]
  },
  {
   "cell_type": "code",
   "execution_count": 12,
   "id": "6fcbd8ec",
   "metadata": {},
   "outputs": [],
   "source": [
    "outlier_sepal_width_high= iris[iris[\"class\"]==\"Iris-virginica\"][\"sepal_width\"]>3.5 # outlier index=109"
   ]
  },
  {
   "cell_type": "code",
   "execution_count": 13,
   "id": "420f7dfa",
   "metadata": {},
   "outputs": [
    {
     "data": {
      "text/plain": [
       "3.0"
      ]
     },
     "execution_count": 13,
     "metadata": {},
     "output_type": "execute_result"
    }
   ],
   "source": [
    "sepal_width_mean= round(iris[iris[\"class\"]==\"Iris-virginica\"][\"sepal_width\"].mean(),ndigits=1)\n",
    "sepal_width_mean"
   ]
  },
  {
   "cell_type": "code",
   "execution_count": 14,
   "id": "146303eb",
   "metadata": {},
   "outputs": [],
   "source": [
    "#Mean imputation"
   ]
  },
  {
   "cell_type": "code",
   "execution_count": 15,
   "id": "0ce28d8f",
   "metadata": {},
   "outputs": [],
   "source": [
    "iris.loc[109,\"sepal_width\"]=sepal_width_mean"
   ]
  },
  {
   "cell_type": "code",
   "execution_count": 16,
   "id": "49152474",
   "metadata": {},
   "outputs": [
    {
     "data": {
      "text/plain": [
       "3.0"
      ]
     },
     "execution_count": 16,
     "metadata": {},
     "output_type": "execute_result"
    }
   ],
   "source": [
    "iris.loc[109,\"sepal_width\"]"
   ]
  },
  {
   "cell_type": "code",
   "execution_count": 17,
   "id": "e65a677f",
   "metadata": {},
   "outputs": [],
   "source": [
    "outlier_petal_length= iris[iris[\"class\"]==\"Iris-setosa\"][\"petal_length\"]>=1.7  # outlier index=5,18,20\n"
   ]
  },
  {
   "cell_type": "code",
   "execution_count": 18,
   "id": "200c4b60",
   "metadata": {},
   "outputs": [],
   "source": [
    "petal_length_mean=round(iris[iris[\"class\"]==\"Iris-setosa\"][\"petal_length\"].mean(),ndigits=1)\n",
    "petal_length_mean\n",
    "iris.loc[5,\"petal_length\"]=petal_length_mean"
   ]
  },
  {
   "cell_type": "code",
   "execution_count": 19,
   "id": "aaaf36df",
   "metadata": {},
   "outputs": [
    {
     "data": {
      "text/plain": [
       "1.5"
      ]
     },
     "execution_count": 19,
     "metadata": {},
     "output_type": "execute_result"
    }
   ],
   "source": [
    "iris.loc[5,\"petal_length\"]"
   ]
  },
  {
   "cell_type": "code",
   "execution_count": 20,
   "id": "7daa9510",
   "metadata": {},
   "outputs": [],
   "source": [
    "iris.loc[18,\"petal_length\"]=petal_length_mean\n",
    "iris.loc[20,\"petal_length\"]=petal_length_mean"
   ]
  },
  {
   "cell_type": "code",
   "execution_count": 21,
   "id": "55ed2e5f",
   "metadata": {},
   "outputs": [],
   "source": [
    "outlier_petal_length= iris[iris[\"class\"]==\"Iris-setosa\"][\"petal_length\"]<1.3 #14, 35\n",
    "iris.loc[14,\"petal_length\"]=petal_length_mean\n",
    "iris.loc[35,\"petal_length\"]=petal_length_mean"
   ]
  },
  {
   "cell_type": "code",
   "execution_count": null,
   "id": "43996256",
   "metadata": {},
   "outputs": [],
   "source": []
  },
  {
   "cell_type": "code",
   "execution_count": 22,
   "id": "3ec87e5c",
   "metadata": {},
   "outputs": [],
   "source": [
    "#Mean Imputation\n",
    "outlier_petal_length= iris[iris[\"class\"]==\"Iris-virginica\"][\"petal_length\"]>=6.8  #118\n",
    "outlier_petal_length\n",
    "petal_length_mean_virginica=round(iris[iris[\"class\"]==\"Iris-virginica\"][\"petal_length\"].mean(),ndigits=1)\n",
    "petal_length_mean_virginica\n",
    "iris.loc[118,\"petal_length\"]=petal_length_mean_virginica"
   ]
  },
  {
   "cell_type": "code",
   "execution_count": 23,
   "id": "1b1c2633",
   "metadata": {},
   "outputs": [
    {
     "data": {
      "image/png": "[encoded data removed]",
      "text/plain": [
       "<Figure size 1080x432 with 4 Axes>"
      ]
     },
     "metadata": {
      "needs_background": "light"
     },
     "output_type": "display_data"
    }
   ],
   "source": [
    "fig, axes = plt.subplots(1, 4, figsize=(15, 6))\n",
    "sns.boxplot(ax=axes[0],data=iris,x=\"class\",y='sepal_length')\n",
    "sns.boxplot(ax=axes[1],data=iris,x=\"class\",y='sepal_width')\n",
    "sns.boxplot(ax=axes[2],data=iris,x=\"class\",y='petal_length')\n",
    "sns.boxplot(ax=axes[3],data=iris,x=\"class\",y='petal_width')\n",
    "plt.show()"
   ]
  },
  {
   "cell_type": "code",
   "execution_count": 24,
   "id": "a7929678",
   "metadata": {},
   "outputs": [
    {
     "data": {
      "text/html": [
       "<div>\n",
       "<style scoped>\n",
       "    .dataframe tbody tr th:only-of-type {\n",
       "        vertical-align: middle;\n",
       "    }\n",
       "\n",
       "    .dataframe tbody tr th {\n",
       "        vertical-align: top;\n",
       "    }\n",
       "\n",
       "    .dataframe thead th {\n",
       "        text-align: right;\n",
       "    }\n",
       "</style>\n",
       "<table border=\"1\" class=\"dataframe\">\n",
       "  <thead>\n",
       "    <tr style=\"text-align: right;\">\n",
       "      <th></th>\n",
       "      <th>sepal_length</th>\n",
       "      <th>sepal_width</th>\n",
       "      <th>petal_length</th>\n",
       "      <th>petal_width</th>\n",
       "      <th>class</th>\n",
       "    </tr>\n",
       "  </thead>\n",
       "  <tbody>\n",
       "    <tr>\n",
       "      <th>0</th>\n",
       "      <td>5.1</td>\n",
       "      <td>3.5</td>\n",
       "      <td>1.4</td>\n",
       "      <td>0.2</td>\n",
       "      <td>Iris-setosa</td>\n",
       "    </tr>\n",
       "    <tr>\n",
       "      <th>1</th>\n",
       "      <td>4.9</td>\n",
       "      <td>3.0</td>\n",
       "      <td>1.4</td>\n",
       "      <td>0.2</td>\n",
       "      <td>Iris-setosa</td>\n",
       "    </tr>\n",
       "    <tr>\n",
       "      <th>2</th>\n",
       "      <td>4.7</td>\n",
       "      <td>3.2</td>\n",
       "      <td>1.3</td>\n",
       "      <td>0.2</td>\n",
       "      <td>Iris-setosa</td>\n",
       "    </tr>\n",
       "    <tr>\n",
       "      <th>3</th>\n",
       "      <td>4.6</td>\n",
       "      <td>3.1</td>\n",
       "      <td>1.5</td>\n",
       "      <td>0.2</td>\n",
       "      <td>Iris-setosa</td>\n",
       "    </tr>\n",
       "    <tr>\n",
       "      <th>4</th>\n",
       "      <td>5.0</td>\n",
       "      <td>3.6</td>\n",
       "      <td>1.4</td>\n",
       "      <td>0.2</td>\n",
       "      <td>Iris-setosa</td>\n",
       "    </tr>\n",
       "  </tbody>\n",
       "</table>\n",
       "</div>"
      ],
      "text/plain": [
       "   sepal_length  sepal_width  petal_length  petal_width        class\n",
       "0           5.1          3.5           1.4          0.2  Iris-setosa\n",
       "1           4.9          3.0           1.4          0.2  Iris-setosa\n",
       "2           4.7          3.2           1.3          0.2  Iris-setosa\n",
       "3           4.6          3.1           1.5          0.2  Iris-setosa\n",
       "4           5.0          3.6           1.4          0.2  Iris-setosa"
      ]
     },
     "execution_count": 24,
     "metadata": {},
     "output_type": "execute_result"
    }
   ],
   "source": [
    "\n",
    "iris_backup=iris.copy()\n",
    "iris.head()"
   ]
  },
  {
   "cell_type": "code",
   "execution_count": 25,
   "id": "96fbc7b6",
   "metadata": {},
   "outputs": [],
   "source": [
    "from sklearn.preprocessing import OrdinalEncoder\n",
    "Oe=OrdinalEncoder()"
   ]
  },
  {
   "cell_type": "code",
   "execution_count": 26,
   "id": "64551f87",
   "metadata": {},
   "outputs": [],
   "source": [
    "iris[\"class\"]=Oe.fit_transform(iris[[\"class\"]])"
   ]
  },
  {
   "cell_type": "code",
   "execution_count": 27,
   "id": "3eb44923",
   "metadata": {},
   "outputs": [
    {
     "data": {
      "text/html": [
       "<div>\n",
       "<style scoped>\n",
       "    .dataframe tbody tr th:only-of-type {\n",
       "        vertical-align: middle;\n",
       "    }\n",
       "\n",
       "    .dataframe tbody tr th {\n",
       "        vertical-align: top;\n",
       "    }\n",
       "\n",
       "    .dataframe thead th {\n",
       "        text-align: right;\n",
       "    }\n",
       "</style>\n",
       "<table border=\"1\" class=\"dataframe\">\n",
       "  <thead>\n",
       "    <tr style=\"text-align: right;\">\n",
       "      <th></th>\n",
       "      <th>sepal_length</th>\n",
       "      <th>sepal_width</th>\n",
       "      <th>petal_length</th>\n",
       "      <th>petal_width</th>\n",
       "      <th>class</th>\n",
       "    </tr>\n",
       "  </thead>\n",
       "  <tbody>\n",
       "    <tr>\n",
       "      <th>0</th>\n",
       "      <td>5.1</td>\n",
       "      <td>3.5</td>\n",
       "      <td>1.4</td>\n",
       "      <td>0.2</td>\n",
       "      <td>0.0</td>\n",
       "    </tr>\n",
       "    <tr>\n",
       "      <th>1</th>\n",
       "      <td>4.9</td>\n",
       "      <td>3.0</td>\n",
       "      <td>1.4</td>\n",
       "      <td>0.2</td>\n",
       "      <td>0.0</td>\n",
       "    </tr>\n",
       "    <tr>\n",
       "      <th>2</th>\n",
       "      <td>4.7</td>\n",
       "      <td>3.2</td>\n",
       "      <td>1.3</td>\n",
       "      <td>0.2</td>\n",
       "      <td>0.0</td>\n",
       "    </tr>\n",
       "    <tr>\n",
       "      <th>3</th>\n",
       "      <td>4.6</td>\n",
       "      <td>3.1</td>\n",
       "      <td>1.5</td>\n",
       "      <td>0.2</td>\n",
       "      <td>0.0</td>\n",
       "    </tr>\n",
       "    <tr>\n",
       "      <th>4</th>\n",
       "      <td>5.0</td>\n",
       "      <td>3.6</td>\n",
       "      <td>1.4</td>\n",
       "      <td>0.2</td>\n",
       "      <td>0.0</td>\n",
       "    </tr>\n",
       "    <tr>\n",
       "      <th>...</th>\n",
       "      <td>...</td>\n",
       "      <td>...</td>\n",
       "      <td>...</td>\n",
       "      <td>...</td>\n",
       "      <td>...</td>\n",
       "    </tr>\n",
       "    <tr>\n",
       "      <th>102</th>\n",
       "      <td>7.1</td>\n",
       "      <td>3.0</td>\n",
       "      <td>5.9</td>\n",
       "      <td>2.1</td>\n",
       "      <td>2.0</td>\n",
       "    </tr>\n",
       "    <tr>\n",
       "      <th>103</th>\n",
       "      <td>6.3</td>\n",
       "      <td>2.9</td>\n",
       "      <td>5.6</td>\n",
       "      <td>1.8</td>\n",
       "      <td>2.0</td>\n",
       "    </tr>\n",
       "    <tr>\n",
       "      <th>104</th>\n",
       "      <td>6.5</td>\n",
       "      <td>3.0</td>\n",
       "      <td>5.8</td>\n",
       "      <td>2.2</td>\n",
       "      <td>2.0</td>\n",
       "    </tr>\n",
       "    <tr>\n",
       "      <th>105</th>\n",
       "      <td>7.6</td>\n",
       "      <td>3.0</td>\n",
       "      <td>6.6</td>\n",
       "      <td>2.1</td>\n",
       "      <td>2.0</td>\n",
       "    </tr>\n",
       "    <tr>\n",
       "      <th>107</th>\n",
       "      <td>7.3</td>\n",
       "      <td>2.9</td>\n",
       "      <td>6.3</td>\n",
       "      <td>1.8</td>\n",
       "      <td>2.0</td>\n",
       "    </tr>\n",
       "  </tbody>\n",
       "</table>\n",
       "<p>100 rows × 5 columns</p>\n",
       "</div>"
      ],
      "text/plain": [
       "     sepal_length  sepal_width  petal_length  petal_width  class\n",
       "0             5.1          3.5           1.4          0.2    0.0\n",
       "1             4.9          3.0           1.4          0.2    0.0\n",
       "2             4.7          3.2           1.3          0.2    0.0\n",
       "3             4.6          3.1           1.5          0.2    0.0\n",
       "4             5.0          3.6           1.4          0.2    0.0\n",
       "..            ...          ...           ...          ...    ...\n",
       "102           7.1          3.0           5.9          2.1    2.0\n",
       "103           6.3          2.9           5.6          1.8    2.0\n",
       "104           6.5          3.0           5.8          2.2    2.0\n",
       "105           7.6          3.0           6.6          2.1    2.0\n",
       "107           7.3          2.9           6.3          1.8    2.0\n",
       "\n",
       "[100 rows x 5 columns]"
      ]
     },
     "execution_count": 27,
     "metadata": {},
     "output_type": "execute_result"
    }
   ],
   "source": [
    "iris.head(100)"
   ]
  },
  {
   "cell_type": "code",
   "execution_count": 28,
   "id": "0b9ade3d",
   "metadata": {},
   "outputs": [
    {
     "name": "stdout",
     "output_type": "stream",
     "text": [
      "sepal_length \n",
      ":  0.2 \n",
      "\n",
      "sepal_width \n",
      ":  0.45 \n",
      "\n",
      "petal_length \n",
      ":  -0.38 \n",
      "\n",
      "petal_width \n",
      ":  -0.14 \n",
      "\n",
      "class \n",
      ":  -0.03 \n",
      "\n"
     ]
    }
   ],
   "source": [
    "from scipy.stats import skew\n",
    "\n",
    "for col in iris:\n",
    "    print(col,\"\\n: \",round(skew(iris[col]),ndigits=2),\"\\n\")\n"
   ]
  },
  {
   "cell_type": "code",
   "execution_count": 29,
   "id": "07cfcb9d",
   "metadata": {},
   "outputs": [
    {
     "data": {
      "text/html": [
       "<style type=\"text/css\">\n",
       "#T_47489_row0_col0, #T_47489_row1_col1, #T_47489_row2_col2, #T_47489_row3_col3, #T_47489_row4_col4 {\n",
       "  background-color: #023858;\n",
       "  color: #f1f1f1;\n",
       "}\n",
       "#T_47489_row0_col1 {\n",
       "  background-color: #dcdaeb;\n",
       "  color: #000000;\n",
       "}\n",
       "#T_47489_row0_col2 {\n",
       "  background-color: #03517e;\n",
       "  color: #f1f1f1;\n",
       "}\n",
       "#T_47489_row0_col3 {\n",
       "  background-color: #045a8d;\n",
       "  color: #f1f1f1;\n",
       "}\n",
       "#T_47489_row0_col4 {\n",
       "  background-color: #045d92;\n",
       "  color: #f1f1f1;\n",
       "}\n",
       "#T_47489_row1_col0, #T_47489_row1_col2, #T_47489_row1_col3, #T_47489_row1_col4, #T_47489_row2_col1 {\n",
       "  background-color: #fff7fb;\n",
       "  color: #000000;\n",
       "}\n",
       "#T_47489_row2_col0 {\n",
       "  background-color: #045788;\n",
       "  color: #f1f1f1;\n",
       "}\n",
       "#T_47489_row2_col3, #T_47489_row3_col2 {\n",
       "  background-color: #023e62;\n",
       "  color: #f1f1f1;\n",
       "}\n",
       "#T_47489_row2_col4, #T_47489_row4_col2 {\n",
       "  background-color: #034165;\n",
       "  color: #f1f1f1;\n",
       "}\n",
       "#T_47489_row3_col0 {\n",
       "  background-color: #045e94;\n",
       "  color: #f1f1f1;\n",
       "}\n",
       "#T_47489_row3_col1 {\n",
       "  background-color: #f7f0f7;\n",
       "  color: #000000;\n",
       "}\n",
       "#T_47489_row3_col4, #T_47489_row4_col3 {\n",
       "  background-color: #023f64;\n",
       "  color: #f1f1f1;\n",
       "}\n",
       "#T_47489_row4_col0 {\n",
       "  background-color: #04629a;\n",
       "  color: #f1f1f1;\n",
       "}\n",
       "#T_47489_row4_col1 {\n",
       "  background-color: #fcf4fa;\n",
       "  color: #000000;\n",
       "}\n",
       "</style>\n",
       "<table id=\"T_47489_\">\n",
       "  <thead>\n",
       "    <tr>\n",
       "      <th class=\"blank level0\" >&nbsp;</th>\n",
       "      <th class=\"col_heading level0 col0\" >sepal_length</th>\n",
       "      <th class=\"col_heading level0 col1\" >sepal_width</th>\n",
       "      <th class=\"col_heading level0 col2\" >petal_length</th>\n",
       "      <th class=\"col_heading level0 col3\" >petal_width</th>\n",
       "      <th class=\"col_heading level0 col4\" >class</th>\n",
       "    </tr>\n",
       "  </thead>\n",
       "  <tbody>\n",
       "    <tr>\n",
       "      <th id=\"T_47489_level0_row0\" class=\"row_heading level0 row0\" >sepal_length</th>\n",
       "      <td id=\"T_47489_row0_col0\" class=\"data row0 col0\" >1.000000</td>\n",
       "      <td id=\"T_47489_row0_col1\" class=\"data row0 col1\" >-0.181554</td>\n",
       "      <td id=\"T_47489_row0_col2\" class=\"data row0 col2\" >0.863701</td>\n",
       "      <td id=\"T_47489_row0_col3\" class=\"data row0 col3\" >0.821492</td>\n",
       "      <td id=\"T_47489_row0_col4\" class=\"data row0 col4\" >0.792637</td>\n",
       "    </tr>\n",
       "    <tr>\n",
       "      <th id=\"T_47489_level0_row1\" class=\"row_heading level0 row1\" >sepal_width</th>\n",
       "      <td id=\"T_47489_row1_col0\" class=\"data row1 col0\" >-0.181554</td>\n",
       "      <td id=\"T_47489_row1_col1\" class=\"data row1 col1\" >1.000000</td>\n",
       "      <td id=\"T_47489_row1_col2\" class=\"data row1 col2\" >-0.474548</td>\n",
       "      <td id=\"T_47489_row1_col3\" class=\"data row1 col3\" >-0.395114</td>\n",
       "      <td id=\"T_47489_row1_col4\" class=\"data row1 col4\" >-0.442897</td>\n",
       "    </tr>\n",
       "    <tr>\n",
       "      <th id=\"T_47489_level0_row2\" class=\"row_heading level0 row2\" >petal_length</th>\n",
       "      <td id=\"T_47489_row2_col0\" class=\"data row2 col0\" >0.863701</td>\n",
       "      <td id=\"T_47489_row2_col1\" class=\"data row2 col1\" >-0.474548</td>\n",
       "      <td id=\"T_47489_row2_col2\" class=\"data row2 col2\" >1.000000</td>\n",
       "      <td id=\"T_47489_row2_col3\" class=\"data row2 col3\" >0.962185</td>\n",
       "      <td id=\"T_47489_row2_col4\" class=\"data row2 col4\" >0.950253</td>\n",
       "    </tr>\n",
       "    <tr>\n",
       "      <th id=\"T_47489_level0_row3\" class=\"row_heading level0 row3\" >petal_width</th>\n",
       "      <td id=\"T_47489_row3_col0\" class=\"data row3 col0\" >0.821492</td>\n",
       "      <td id=\"T_47489_row3_col1\" class=\"data row3 col1\" >-0.395114</td>\n",
       "      <td id=\"T_47489_row3_col2\" class=\"data row3 col2\" >0.962185</td>\n",
       "      <td id=\"T_47489_row3_col3\" class=\"data row3 col3\" >1.000000</td>\n",
       "      <td id=\"T_47489_row3_col4\" class=\"data row3 col4\" >0.957589</td>\n",
       "    </tr>\n",
       "    <tr>\n",
       "      <th id=\"T_47489_level0_row4\" class=\"row_heading level0 row4\" >class</th>\n",
       "      <td id=\"T_47489_row4_col0\" class=\"data row4 col0\" >0.792637</td>\n",
       "      <td id=\"T_47489_row4_col1\" class=\"data row4 col1\" >-0.442897</td>\n",
       "      <td id=\"T_47489_row4_col2\" class=\"data row4 col2\" >0.950253</td>\n",
       "      <td id=\"T_47489_row4_col3\" class=\"data row4 col3\" >0.957589</td>\n",
       "      <td id=\"T_47489_row4_col4\" class=\"data row4 col4\" >1.000000</td>\n",
       "    </tr>\n",
       "  </tbody>\n",
       "</table>\n"
      ],
      "text/plain": [
       "<pandas.io.formats.style.Styler at 0x28cb4314040>"
      ]
     },
     "execution_count": 29,
     "metadata": {},
     "output_type": "execute_result"
    }
   ],
   "source": [
    "iris.corr().style.background_gradient()"
   ]
  },
  {
   "cell_type": "code",
   "execution_count": 30,
   "id": "2f051d7b",
   "metadata": {},
   "outputs": [
    {
     "data": {
      "image/png": "[encoded data removed]",
      "text/plain": [
       "<Figure size 360x360 with 1 Axes>"
      ]
     },
     "metadata": {
      "needs_background": "light"
     },
     "output_type": "display_data"
    }
   ],
   "source": [
    "#backup\n",
    "iris_backup1=iris.copy()\n",
    "sns.displot(iris[\"sepal_width\"],kde=True);"
   ]
  },
  {
   "cell_type": "code",
   "execution_count": null,
   "id": "0ecf6ea2",
   "metadata": {},
   "outputs": [],
   "source": []
  },
  {
   "cell_type": "code",
   "execution_count": 31,
   "id": "13de0347",
   "metadata": {},
   "outputs": [
    {
     "name": "stdout",
     "output_type": "stream",
     "text": [
      "<class 'pandas.core.frame.DataFrame'>\n",
      "Int64Index: 139 entries, 0 to 149\n",
      "Data columns (total 5 columns):\n",
      " #   Column        Non-Null Count  Dtype  \n",
      "---  ------        --------------  -----  \n",
      " 0   sepal_length  139 non-null    float64\n",
      " 1   sepal_width   139 non-null    float64\n",
      " 2   petal_length  139 non-null    float64\n",
      " 3   petal_width   139 non-null    float64\n",
      " 4   class         139 non-null    int64  \n",
      "dtypes: float64(4), int64(1)\n",
      "memory usage: 10.6 KB\n"
     ]
    }
   ],
   "source": [
    "iris_backup1[\"class\"]=iris_backup1[\"class\"].astype(\"int64\")\n",
    "iris_backup1.info()"
   ]
  },
  {
   "cell_type": "code",
   "execution_count": 32,
   "id": "d7239eb3",
   "metadata": {},
   "outputs": [
    {
     "data": {
      "text/plain": [
       "0      0\n",
       "1      0\n",
       "2      0\n",
       "3      0\n",
       "4      0\n",
       "      ..\n",
       "145    2\n",
       "146    2\n",
       "147    2\n",
       "148    2\n",
       "149    2\n",
       "Name: class, Length: 139, dtype: int64"
      ]
     },
     "execution_count": 32,
     "metadata": {},
     "output_type": "execute_result"
    }
   ],
   "source": [
    "X=iris_backup1.iloc[:,:4]\n",
    "Y=iris_backup1.iloc[:,-1]\n",
    "Y"
   ]
  },
  {
   "cell_type": "code",
   "execution_count": null,
   "id": "b63e3cfa",
   "metadata": {},
   "outputs": [],
   "source": []
  },
  {
   "cell_type": "code",
   "execution_count": null,
   "id": "b440cbb3",
   "metadata": {},
   "outputs": [],
   "source": []
  },
  {
   "cell_type": "code",
   "execution_count": 33,
   "id": "c3365908",
   "metadata": {},
   "outputs": [],
   "source": [
    "#scaling\n",
    "\n",
    "from sklearn.preprocessing import StandardScaler\n",
    "SS=StandardScaler()"
   ]
  },
  {
   "cell_type": "code",
   "execution_count": 34,
   "id": "12c1f3a5",
   "metadata": {},
   "outputs": [],
   "source": [
    "iris_ft=SS.fit_transform(X)\n",
    "iris_Scaled=pd.DataFrame(iris_ft,columns=[\"sepal_length\",\"sepal_width\",\"petal_length\",\"petal_width\"])"
   ]
  },
  {
   "cell_type": "code",
   "execution_count": 35,
   "id": "05384897",
   "metadata": {},
   "outputs": [
    {
     "data": {
      "text/html": [
       "<div>\n",
       "<style scoped>\n",
       "    .dataframe tbody tr th:only-of-type {\n",
       "        vertical-align: middle;\n",
       "    }\n",
       "\n",
       "    .dataframe tbody tr th {\n",
       "        vertical-align: top;\n",
       "    }\n",
       "\n",
       "    .dataframe thead th {\n",
       "        text-align: right;\n",
       "    }\n",
       "</style>\n",
       "<table border=\"1\" class=\"dataframe\">\n",
       "  <thead>\n",
       "    <tr style=\"text-align: right;\">\n",
       "      <th></th>\n",
       "      <th>sepal_length</th>\n",
       "      <th>sepal_width</th>\n",
       "      <th>petal_length</th>\n",
       "      <th>petal_width</th>\n",
       "    </tr>\n",
       "  </thead>\n",
       "  <tbody>\n",
       "    <tr>\n",
       "      <th>0</th>\n",
       "      <td>-0.979057</td>\n",
       "      <td>1.115393</td>\n",
       "      <td>-1.398736</td>\n",
       "      <td>-1.341473</td>\n",
       "    </tr>\n",
       "    <tr>\n",
       "      <th>1</th>\n",
       "      <td>-1.233192</td>\n",
       "      <td>-0.088331</td>\n",
       "      <td>-1.398736</td>\n",
       "      <td>-1.341473</td>\n",
       "    </tr>\n",
       "    <tr>\n",
       "      <th>2</th>\n",
       "      <td>-1.487326</td>\n",
       "      <td>0.393159</td>\n",
       "      <td>-1.457122</td>\n",
       "      <td>-1.341473</td>\n",
       "    </tr>\n",
       "    <tr>\n",
       "      <th>3</th>\n",
       "      <td>-1.614393</td>\n",
       "      <td>0.152414</td>\n",
       "      <td>-1.340351</td>\n",
       "      <td>-1.341473</td>\n",
       "    </tr>\n",
       "    <tr>\n",
       "      <th>4</th>\n",
       "      <td>-1.106124</td>\n",
       "      <td>1.356137</td>\n",
       "      <td>-1.398736</td>\n",
       "      <td>-1.341473</td>\n",
       "    </tr>\n",
       "    <tr>\n",
       "      <th>...</th>\n",
       "      <td>...</td>\n",
       "      <td>...</td>\n",
       "      <td>...</td>\n",
       "      <td>...</td>\n",
       "    </tr>\n",
       "    <tr>\n",
       "      <th>134</th>\n",
       "      <td>1.054018</td>\n",
       "      <td>-0.088331</td>\n",
       "      <td>0.819920</td>\n",
       "      <td>1.425848</td>\n",
       "    </tr>\n",
       "    <tr>\n",
       "      <th>135</th>\n",
       "      <td>0.545749</td>\n",
       "      <td>-1.292054</td>\n",
       "      <td>0.703149</td>\n",
       "      <td>0.898739</td>\n",
       "    </tr>\n",
       "    <tr>\n",
       "      <th>136</th>\n",
       "      <td>0.799883</td>\n",
       "      <td>-0.088331</td>\n",
       "      <td>0.819920</td>\n",
       "      <td>1.030516</td>\n",
       "    </tr>\n",
       "    <tr>\n",
       "      <th>137</th>\n",
       "      <td>0.418682</td>\n",
       "      <td>0.874648</td>\n",
       "      <td>0.936691</td>\n",
       "      <td>1.425848</td>\n",
       "    </tr>\n",
       "    <tr>\n",
       "      <th>138</th>\n",
       "      <td>0.037480</td>\n",
       "      <td>-0.088331</td>\n",
       "      <td>0.761534</td>\n",
       "      <td>0.766962</td>\n",
       "    </tr>\n",
       "  </tbody>\n",
       "</table>\n",
       "<p>139 rows × 4 columns</p>\n",
       "</div>"
      ],
      "text/plain": [
       "     sepal_length  sepal_width  petal_length  petal_width\n",
       "0       -0.979057     1.115393     -1.398736    -1.341473\n",
       "1       -1.233192    -0.088331     -1.398736    -1.341473\n",
       "2       -1.487326     0.393159     -1.457122    -1.341473\n",
       "3       -1.614393     0.152414     -1.340351    -1.341473\n",
       "4       -1.106124     1.356137     -1.398736    -1.341473\n",
       "..            ...          ...           ...          ...\n",
       "134      1.054018    -0.088331      0.819920     1.425848\n",
       "135      0.545749    -1.292054      0.703149     0.898739\n",
       "136      0.799883    -0.088331      0.819920     1.030516\n",
       "137      0.418682     0.874648      0.936691     1.425848\n",
       "138      0.037480    -0.088331      0.761534     0.766962\n",
       "\n",
       "[139 rows x 4 columns]"
      ]
     },
     "execution_count": 35,
     "metadata": {},
     "output_type": "execute_result"
    }
   ],
   "source": [
    "iris_Scaled"
   ]
  },
  {
   "cell_type": "code",
   "execution_count": 36,
   "id": "cff05054",
   "metadata": {},
   "outputs": [
    {
     "name": "stdout",
     "output_type": "stream",
     "text": [
      "sepal_length \n",
      ":  0.2 \n",
      "\n",
      "sepal_width \n",
      ":  0.45 \n",
      "\n",
      "petal_length \n",
      ":  -0.38 \n",
      "\n",
      "petal_width \n",
      ":  -0.14 \n",
      "\n"
     ]
    }
   ],
   "source": [
    "for col in iris_Scaled:\n",
    "    print(col,\"\\n: \",round(skew(iris_Scaled[col]),ndigits=2),\"\\n\")"
   ]
  },
  {
   "cell_type": "code",
   "execution_count": 37,
   "id": "d9ef6702",
   "metadata": {},
   "outputs": [
    {
     "data": {
      "text/html": [
       "<div>\n",
       "<style scoped>\n",
       "    .dataframe tbody tr th:only-of-type {\n",
       "        vertical-align: middle;\n",
       "    }\n",
       "\n",
       "    .dataframe tbody tr th {\n",
       "        vertical-align: top;\n",
       "    }\n",
       "\n",
       "    .dataframe thead th {\n",
       "        text-align: right;\n",
       "    }\n",
       "</style>\n",
       "<table border=\"1\" class=\"dataframe\">\n",
       "  <thead>\n",
       "    <tr style=\"text-align: right;\">\n",
       "      <th></th>\n",
       "      <th>sepal_length</th>\n",
       "      <th>sepal_width</th>\n",
       "      <th>petal_length</th>\n",
       "      <th>petal_width</th>\n",
       "    </tr>\n",
       "  </thead>\n",
       "  <tbody>\n",
       "    <tr>\n",
       "      <th>count</th>\n",
       "      <td>1.390000e+02</td>\n",
       "      <td>1.390000e+02</td>\n",
       "      <td>1.390000e+02</td>\n",
       "      <td>1.390000e+02</td>\n",
       "    </tr>\n",
       "    <tr>\n",
       "      <th>mean</th>\n",
       "      <td>2.853932e-16</td>\n",
       "      <td>1.829072e-16</td>\n",
       "      <td>4.632585e-17</td>\n",
       "      <td>7.507983e-17</td>\n",
       "    </tr>\n",
       "    <tr>\n",
       "      <th>std</th>\n",
       "      <td>1.003617e+00</td>\n",
       "      <td>1.003617e+00</td>\n",
       "      <td>1.003617e+00</td>\n",
       "      <td>1.003617e+00</td>\n",
       "    </tr>\n",
       "    <tr>\n",
       "      <th>min</th>\n",
       "      <td>-1.868528e+00</td>\n",
       "      <td>-2.495778e+00</td>\n",
       "      <td>-1.457122e+00</td>\n",
       "      <td>-1.473250e+00</td>\n",
       "    </tr>\n",
       "    <tr>\n",
       "      <th>25%</th>\n",
       "      <td>-8.519900e-01</td>\n",
       "      <td>-5.698202e-01</td>\n",
       "      <td>-1.340351e+00</td>\n",
       "      <td>-1.209696e+00</td>\n",
       "    </tr>\n",
       "    <tr>\n",
       "      <th>50%</th>\n",
       "      <td>-8.958694e-02</td>\n",
       "      <td>-8.833079e-02</td>\n",
       "      <td>3.528344e-01</td>\n",
       "      <td>1.080762e-01</td>\n",
       "    </tr>\n",
       "    <tr>\n",
       "      <th>75%</th>\n",
       "      <td>6.728162e-01</td>\n",
       "      <td>3.931586e-01</td>\n",
       "      <td>7.615343e-01</td>\n",
       "      <td>7.669621e-01</td>\n",
       "    </tr>\n",
       "    <tr>\n",
       "      <th>max</th>\n",
       "      <td>2.324690e+00</td>\n",
       "      <td>3.282095e+00</td>\n",
       "      <td>1.695705e+00</td>\n",
       "      <td>1.689402e+00</td>\n",
       "    </tr>\n",
       "  </tbody>\n",
       "</table>\n",
       "</div>"
      ],
      "text/plain": [
       "       sepal_length   sepal_width  petal_length   petal_width\n",
       "count  1.390000e+02  1.390000e+02  1.390000e+02  1.390000e+02\n",
       "mean   2.853932e-16  1.829072e-16  4.632585e-17  7.507983e-17\n",
       "std    1.003617e+00  1.003617e+00  1.003617e+00  1.003617e+00\n",
       "min   -1.868528e+00 -2.495778e+00 -1.457122e+00 -1.473250e+00\n",
       "25%   -8.519900e-01 -5.698202e-01 -1.340351e+00 -1.209696e+00\n",
       "50%   -8.958694e-02 -8.833079e-02  3.528344e-01  1.080762e-01\n",
       "75%    6.728162e-01  3.931586e-01  7.615343e-01  7.669621e-01\n",
       "max    2.324690e+00  3.282095e+00  1.695705e+00  1.689402e+00"
      ]
     },
     "execution_count": 37,
     "metadata": {},
     "output_type": "execute_result"
    }
   ],
   "source": [
    "iris_Scaled.describe()"
   ]
  },
  {
   "cell_type": "code",
   "execution_count": null,
   "id": "9119790a",
   "metadata": {},
   "outputs": [],
   "source": []
  },
  {
   "cell_type": "code",
   "execution_count": 38,
   "id": "f5b60627",
   "metadata": {},
   "outputs": [],
   "source": [
    "from sklearn.model_selection import train_test_split\n",
    "xtrain,xtest,ytrain,ytest=train_test_split(X,Y,test_size=.30,random_state=1)"
   ]
  },
  {
   "cell_type": "code",
   "execution_count": null,
   "id": "0d037c4c",
   "metadata": {},
   "outputs": [],
   "source": []
  },
  {
   "cell_type": "code",
   "execution_count": 39,
   "id": "d497f49e",
   "metadata": {},
   "outputs": [],
   "source": [
    "#Training the model\n",
    "\n",
    "from sklearn.neighbors import KNeighborsClassifier\n",
    "KNN=KNeighborsClassifier(n_neighbors=5)"
   ]
  },
  {
   "cell_type": "code",
   "execution_count": 40,
   "id": "31e60f8c",
   "metadata": {},
   "outputs": [
    {
     "data": {
      "text/plain": [
       "KNeighborsClassifier()"
      ]
     },
     "execution_count": 40,
     "metadata": {},
     "output_type": "execute_result"
    }
   ],
   "source": [
    "KNN.fit(xtrain,ytrain)"
   ]
  },
  {
   "cell_type": "code",
   "execution_count": 41,
   "id": "d7ffd5c8",
   "metadata": {},
   "outputs": [],
   "source": [
    "ypredict=KNN.predict(xtest)"
   ]
  },
  {
   "cell_type": "code",
   "execution_count": 42,
   "id": "62793a95",
   "metadata": {},
   "outputs": [],
   "source": [
    "from sklearn.metrics import accuracy_score,confusion_matrix,classification_report"
   ]
  },
  {
   "cell_type": "code",
   "execution_count": 43,
   "id": "31d3e2e9",
   "metadata": {},
   "outputs": [
    {
     "name": "stdout",
     "output_type": "stream",
     "text": [
      "Accuracy-: 0.9761904761904762\n",
      " [[16  0  0]\n",
      " [ 0 14  1]\n",
      " [ 0  0 11]]\n",
      "               precision    recall  f1-score   support\n",
      "\n",
      "           0       1.00      1.00      1.00        16\n",
      "           1       1.00      0.93      0.97        15\n",
      "           2       0.92      1.00      0.96        11\n",
      "\n",
      "    accuracy                           0.98        42\n",
      "   macro avg       0.97      0.98      0.97        42\n",
      "weighted avg       0.98      0.98      0.98        42\n",
      "\n"
     ]
    }
   ],
   "source": [
    "ac=accuracy_score(ytest,ypredict)\n",
    "cm=confusion_matrix(ytest,ypredict)\n",
    "cr=classification_report(ytest,ypredict)\n",
    "\n",
    "print(f\"Accuracy-: {ac}\\n {cm}\\n {cr}\")"
   ]
  },
  {
   "cell_type": "code",
   "execution_count": 45,
   "id": "045af102",
   "metadata": {},
   "outputs": [
    {
     "name": "stdout",
     "output_type": "stream",
     "text": [
      "Training acc: 0.9690721649484536\n",
      " Testing acc: 0.9761904761904762\n"
     ]
    }
   ],
   "source": [
    "#Using Suport vector machine\n",
    "\n",
    "from sklearn.svm import SVC\n",
    "svm=SVC()\n",
    "svm.fit(xtrain,ytrain)\n",
    "train_score=svm.score(xtrain,ytrain)\n",
    "test_score=svm.score(xtest,ytest)\n",
    "print(f\"Training acc: {train_score}\\n Testing acc: {test_score}\")"
   ]
  },
  {
   "cell_type": "code",
   "execution_count": 53,
   "id": "4e98c841",
   "metadata": {},
   "outputs": [
    {
     "name": "stdout",
     "output_type": "stream",
     "text": [
      "Accuracy 0.9761904761904762 \n",
      "               precision    recall  f1-score   support\n",
      "\n",
      "           0       1.00      1.00      1.00        16\n",
      "           1       1.00      0.93      0.97        15\n",
      "           2       0.92      1.00      0.96        11\n",
      "\n",
      "    accuracy                           0.98        42\n",
      "   macro avg       0.97      0.98      0.97        42\n",
      "weighted avg       0.98      0.98      0.98        42\n",
      " \n",
      "\n",
      " [[16  0  0]\n",
      " [ 0 14  1]\n",
      " [ 0  0 11]]\n"
     ]
    }
   ],
   "source": [
    "ypred=svm.predict(xtest)\n",
    "\n",
    "from sklearn.metrics import accuracy_score,confusion_matrix,classification_report\n",
    "ac=accuracy_score(ytest,ypred)\n",
    "cr=classification_report(ytest,ypred)\n",
    "cm=confusion_matrix(ytest,ypred)\n",
    "print(\"Accuracy\",ac,\"\\n\",cr,\"\\n\\n\",cm)"
   ]
  },
  {
   "cell_type": "code",
   "execution_count": 54,
   "id": "a67c7359",
   "metadata": {},
   "outputs": [],
   "source": [
    "from sklearn.linear_model import LogisticRegression\n",
    "lr=LogisticRegression()"
   ]
  },
  {
   "cell_type": "code",
   "execution_count": 55,
   "id": "9f4341ad",
   "metadata": {},
   "outputs": [
    {
     "name": "stderr",
     "output_type": "stream",
     "text": [
      "C:\\Users\\admin\\Anaconda3\\lib\\site-packages\\sklearn\\linear_model\\_logistic.py:763: ConvergenceWarning: lbfgs failed to converge (status=1):\n",
      "STOP: TOTAL NO. of ITERATIONS REACHED LIMIT.\n",
      "\n",
      "Increase the number of iterations (max_iter) or scale the data as shown in:\n",
      "    https://scikit-learn.org/stable/modules/preprocessing.html\n",
      "Please also refer to the documentation for alternative solver options:\n",
      "    https://scikit-learn.org/stable/modules/linear_model.html#logistic-regression\n",
      "  n_iter_i = _check_optimize_result(\n"
     ]
    },
    {
     "data": {
      "text/plain": [
       "LogisticRegression()"
      ]
     },
     "execution_count": 55,
     "metadata": {},
     "output_type": "execute_result"
    }
   ],
   "source": [
    "lr.fit(xtrain,ytrain)"
   ]
  },
  {
   "cell_type": "code",
   "execution_count": 56,
   "id": "f813a4e3",
   "metadata": {},
   "outputs": [
    {
     "name": "stdout",
     "output_type": "stream",
     "text": [
      "Training acc: 0.9690721649484536\n",
      " Testing acc: 0.9761904761904762\n"
     ]
    }
   ],
   "source": [
    "train_score=svm.score(xtrain,ytrain)\n",
    "test_score=svm.score(xtest,ytest)\n",
    "print(f\"Training acc: {train_score}\\n Testing acc: {test_score}\")"
   ]
  },
  {
   "cell_type": "code",
   "execution_count": 57,
   "id": "c7e69aa1",
   "metadata": {},
   "outputs": [
    {
     "name": "stdout",
     "output_type": "stream",
     "text": [
      "Accuracy 0.9761904761904762 \n",
      "               precision    recall  f1-score   support\n",
      "\n",
      "           0       1.00      1.00      1.00        16\n",
      "           1       1.00      0.93      0.97        15\n",
      "           2       0.92      1.00      0.96        11\n",
      "\n",
      "    accuracy                           0.98        42\n",
      "   macro avg       0.97      0.98      0.97        42\n",
      "weighted avg       0.98      0.98      0.98        42\n",
      " \n",
      "\n",
      " [[16  0  0]\n",
      " [ 0 14  1]\n",
      " [ 0  0 11]]\n"
     ]
    }
   ],
   "source": [
    "ypred=svm.predict(xtest)\n",
    "\n",
    "from sklearn.metrics import accuracy_score,confusion_matrix,classification_report\n",
    "ac=accuracy_score(ytest,ypred)\n",
    "cr=classification_report(ytest,ypred)\n",
    "cm=confusion_matrix(ytest,ypred)\n",
    "print(\"Accuracy\",ac,\"\\n\",cr,\"\\n\\n\",cm)"
   ]
  },
  {
   "cell_type": "code",
   "execution_count": null,
   "id": "7bd1a8cb",
   "metadata": {},
   "outputs": [],
   "source": []
  },
  {
   "cell_type": "code",
   "execution_count": null,
   "id": "23c4cbf7",
   "metadata": {},
   "outputs": [],
   "source": []
  }
 ],
 "metadata": {
  "kernelspec": {
   "display_name": "Python 3 (ipykernel)",
   "language": "python",
   "name": "python3"
  },
  "language_info": {
   "codemirror_mode": {
    "name": "ipython",
    "version": 3
   },
   "file_extension": ".py",
   "mimetype": "text/x-python",
   "name": "python",
   "nbconvert_exporter": "python",
   "pygments_lexer": "ipython3",
   "version": "3.9.13"
  }
 },
 "nbformat": 4,
 "nbformat_minor": 5
}
